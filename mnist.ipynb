{
  "nbformat": 4,
  "nbformat_minor": 0,
  "metadata": {
    "colab": {
      "name": "mnist.ipynb",
      "provenance": [],
      "authorship_tag": "ABX9TyPakP+uU37XK6iNZorUDff8",
      "include_colab_link": true
    },
    "kernelspec": {
      "name": "python3",
      "display_name": "Python 3"
    },
    "language_info": {
      "name": "python"
    }
  },
  "cells": [
    {
      "cell_type": "markdown",
      "metadata": {
        "id": "view-in-github",
        "colab_type": "text"
      },
      "source": [
        "<a href=\"https://colab.research.google.com/github/HuynhDuyNhan/AI/blob/main/mnist.ipynb\" target=\"_parent\"><img src=\"https://colab.research.google.com/assets/colab-badge.svg\" alt=\"Open In Colab\"/></a>"
      ]
    },
    {
      "cell_type": "code",
      "execution_count": null,
      "metadata": {
        "id": "sIfoPQDNvGD_"
      },
      "outputs": [],
      "source": [
        "import numpy as np \n",
        "from keras.utils import np_utils \n",
        "from keras.datasets import mnist \n",
        "from keras.models import Sequential \n",
        "from keras.layers import Dense, Dropout\n",
        "from tensorflow.keras.optimizers import RMSprop \n",
        "import matplotlib.pyplot as plt  "
      ]
    },
    {
      "cell_type": "code",
      "source": [
        "(x_train, y_train),(x_test,y_test) = mnist.load_data()"
      ],
      "metadata": {
        "id": "dJQK5U5dvN3H"
      },
      "execution_count": null,
      "outputs": []
    },
    {
      "cell_type": "code",
      "source": [
        "x_train.shape"
      ],
      "metadata": {
        "colab": {
          "base_uri": "https://localhost:8080/"
        },
        "id": "CmAn6MMZvRPF",
        "outputId": "b210bae2-e0b2-4aec-d574-4498ff4a2a11"
      },
      "execution_count": null,
      "outputs": [
        {
          "output_type": "execute_result",
          "data": {
            "text/plain": [
              "(60000, 28, 28)"
            ]
          },
          "metadata": {},
          "execution_count": 22
        }
      ]
    },
    {
      "cell_type": "code",
      "source": [
        "y_train.shape"
      ],
      "metadata": {
        "colab": {
          "base_uri": "https://localhost:8080/"
        },
        "id": "YohKL9qUvd91",
        "outputId": "c195d7d8-8431-4eab-c65f-7a9398fc3218"
      },
      "execution_count": null,
      "outputs": [
        {
          "output_type": "execute_result",
          "data": {
            "text/plain": [
              "(60000,)"
            ]
          },
          "metadata": {},
          "execution_count": 23
        }
      ]
    },
    {
      "cell_type": "code",
      "source": [
        "x_test.shape"
      ],
      "metadata": {
        "colab": {
          "base_uri": "https://localhost:8080/"
        },
        "id": "wDhyA9wIvikN",
        "outputId": "d63904dc-4480-4a03-b961-611abe8bf210"
      },
      "execution_count": null,
      "outputs": [
        {
          "output_type": "execute_result",
          "data": {
            "text/plain": [
              "(10000, 28, 28)"
            ]
          },
          "metadata": {},
          "execution_count": 24
        }
      ]
    },
    {
      "cell_type": "code",
      "source": [
        "y_test.shape"
      ],
      "metadata": {
        "colab": {
          "base_uri": "https://localhost:8080/"
        },
        "id": "LW51U10IvjdN",
        "outputId": "31d1bc62-2b73-469a-d532-2dd124bbe95d"
      },
      "execution_count": null,
      "outputs": [
        {
          "output_type": "execute_result",
          "data": {
            "text/plain": [
              "(10000,)"
            ]
          },
          "metadata": {},
          "execution_count": 25
        }
      ]
    },
    {
      "cell_type": "code",
      "source": [
        "for i in range (9):\n",
        "  plt.subplot(330 +i +1)\n",
        "  plt.imshow(x_train[i],cmap=plt.get_cmap('gray'))\n",
        "plt.show()"
      ],
      "metadata": {
        "colab": {
          "base_uri": "https://localhost:8080/",
          "height": 267
        },
        "id": "SbVAfzy6wC29",
        "outputId": "3f0e9ab8-ae8f-4702-9557-bce6942cba58"
      },
      "execution_count": null,
      "outputs": [
        {
          "output_type": "display_data",
          "data": {
            "text/plain": [
              "<Figure size 432x288 with 9 Axes>"
            ],
            "image/png": "[encoded data removed]"
          },
          "metadata": {
            "needs_background": "light"
          }
        }
      ]
    },
    {
      "cell_type": "code",
      "source": [
        "x_train = x_train.reshape(60000,784) \n",
        "x_test = x_test.reshape(10000,784)\n",
        "x_train = x_train.astype('float32')\n",
        "x_test = x_test.astype('float32')\n",
        "x_train/=255\n",
        "x_test/=255\n",
        "y_train =np_utils.to_categorical(y_train,10)\n",
        "y_test = np_utils.to_categorical(y_test,10)"
      ],
      "metadata": {
        "id": "yn_dm5GRwLZl"
      },
      "execution_count": null,
      "outputs": []
    },
    {
      "cell_type": "code",
      "source": [
        "model = Sequential()\n",
        "model.add(Dense(512,activation='relu',input_shape=(784,)))\n",
        "model.add(Dropout(0.2))\n",
        "model.add(Dense(512,activation='relu'))\n",
        "model.add(Dropout(0.2))\n",
        "model.add(Dense(10,activation='softmax'))\n",
        "model.summary()"
      ],
      "metadata": {
        "colab": {
          "base_uri": "https://localhost:8080/"
        },
        "id": "snaPQkaMwYEt",
        "outputId": "9aa43da2-c53e-44f4-9ee8-48ddb285ef67"
      },
      "execution_count": null,
      "outputs": [
        {
          "output_type": "stream",
          "name": "stdout",
          "text": [
            "Model: \"sequential_1\"\n",
            "_________________________________________________________________\n",
            " Layer (type)                Output Shape              Param #   \n",
            "=================================================================\n",
            " dense_3 (Dense)             (None, 512)               401920    \n",
            "                                                                 \n",
            " dropout_2 (Dropout)         (None, 512)               0         \n",
            "                                                                 \n",
            " dense_4 (Dense)             (None, 512)               262656    \n",
            "                                                                 \n",
            " dropout_3 (Dropout)         (None, 512)               0         \n",
            "                                                                 \n",
            " dense_5 (Dense)             (None, 10)                5130      \n",
            "                                                                 \n",
            "=================================================================\n",
            "Total params: 669,706\n",
            "Trainable params: 669,706\n",
            "Non-trainable params: 0\n",
            "_________________________________________________________________\n"
          ]
        }
      ]
    },
    {
      "cell_type": "code",
      "source": [
        "model.compile(loss='categorical_crossentropy',optimizer=RMSprop(), metrics=['accuracy'])\n",
        "from keras.callbacks import EarlyStopping\n",
        "history = model.fit(x_train,y_train,batch_size=128,epochs=500,verbose=1,validation_split=0.2,callbacks=[EarlyStopping(monitor='val_loss',patience=70)])"
      ],
      "metadata": {
        "colab": {
          "base_uri": "https://localhost:8080/"
        },
        "id": "fmfdB31RwgDF",
        "outputId": "dae1b8ca-94e3-4698-d291-392487cfe932"
      },
      "execution_count": null,
      "outputs": [
        {
          "output_type": "stream",
          "name": "stdout",
          "text": [
            "Epoch 1/500\n",
            "375/375 [==============================] - 7s 17ms/step - loss: 0.1042 - accuracy: 0.9676 - val_loss: 0.0970 - val_accuracy: 0.9710\n",
            "Epoch 2/500\n",
            "375/375 [==============================] - 6s 16ms/step - loss: 0.0778 - accuracy: 0.9776 - val_loss: 0.0962 - val_accuracy: 0.9727\n",
            "Epoch 3/500\n",
            "375/375 [==============================] - 6s 16ms/step - loss: 0.0581 - accuracy: 0.9822 - val_loss: 0.0912 - val_accuracy: 0.9778\n",
            "Epoch 4/500\n",
            "375/375 [==============================] - 6s 16ms/step - loss: 0.0482 - accuracy: 0.9853 - val_loss: 0.0931 - val_accuracy: 0.9773\n",
            "Epoch 5/500\n",
            "375/375 [==============================] - 6s 16ms/step - loss: 0.0405 - accuracy: 0.9880 - val_loss: 0.1095 - val_accuracy: 0.9767\n",
            "Epoch 6/500\n",
            "375/375 [==============================] - 6s 16ms/step - loss: 0.0364 - accuracy: 0.9890 - val_loss: 0.1055 - val_accuracy: 0.9786\n",
            "Epoch 7/500\n",
            "375/375 [==============================] - 6s 16ms/step - loss: 0.0318 - accuracy: 0.9895 - val_loss: 0.1051 - val_accuracy: 0.9787\n",
            "Epoch 8/500\n",
            "375/375 [==============================] - 6s 16ms/step - loss: 0.0294 - accuracy: 0.9913 - val_loss: 0.1033 - val_accuracy: 0.9786\n",
            "Epoch 9/500\n",
            "375/375 [==============================] - 6s 16ms/step - loss: 0.0276 - accuracy: 0.9916 - val_loss: 0.1116 - val_accuracy: 0.9793\n",
            "Epoch 10/500\n",
            "375/375 [==============================] - 6s 16ms/step - loss: 0.0246 - accuracy: 0.9918 - val_loss: 0.1070 - val_accuracy: 0.9810\n",
            "Epoch 11/500\n",
            "375/375 [==============================] - 7s 19ms/step - loss: 0.0225 - accuracy: 0.9933 - val_loss: 0.1204 - val_accuracy: 0.9787\n",
            "Epoch 12/500\n",
            "375/375 [==============================] - 6s 17ms/step - loss: 0.0204 - accuracy: 0.9936 - val_loss: 0.1233 - val_accuracy: 0.9797\n",
            "Epoch 13/500\n",
            "375/375 [==============================] - 6s 17ms/step - loss: 0.0183 - accuracy: 0.9942 - val_loss: 0.1467 - val_accuracy: 0.9795\n",
            "Epoch 14/500\n",
            "375/375 [==============================] - 7s 18ms/step - loss: 0.0204 - accuracy: 0.9942 - val_loss: 0.1356 - val_accuracy: 0.9791\n",
            "Epoch 15/500\n",
            "375/375 [==============================] - 6s 17ms/step - loss: 0.0183 - accuracy: 0.9945 - val_loss: 0.1434 - val_accuracy: 0.9809\n",
            "Epoch 16/500\n",
            "375/375 [==============================] - 6s 17ms/step - loss: 0.0161 - accuracy: 0.9951 - val_loss: 0.1484 - val_accuracy: 0.9803\n",
            "Epoch 17/500\n",
            "375/375 [==============================] - 6s 17ms/step - loss: 0.0169 - accuracy: 0.9953 - val_loss: 0.1548 - val_accuracy: 0.9815\n",
            "Epoch 18/500\n",
            "375/375 [==============================] - 6s 17ms/step - loss: 0.0154 - accuracy: 0.9955 - val_loss: 0.1501 - val_accuracy: 0.9804\n",
            "Epoch 19/500\n",
            "375/375 [==============================] - 6s 17ms/step - loss: 0.0146 - accuracy: 0.9955 - val_loss: 0.1602 - val_accuracy: 0.9811\n",
            "Epoch 20/500\n",
            "375/375 [==============================] - 6s 17ms/step - loss: 0.0133 - accuracy: 0.9959 - val_loss: 0.1586 - val_accuracy: 0.9800\n",
            "Epoch 21/500\n",
            "375/375 [==============================] - 6s 17ms/step - loss: 0.0146 - accuracy: 0.9962 - val_loss: 0.1728 - val_accuracy: 0.9811\n",
            "Epoch 22/500\n",
            "375/375 [==============================] - 6s 17ms/step - loss: 0.0125 - accuracy: 0.9966 - val_loss: 0.1824 - val_accuracy: 0.9795\n",
            "Epoch 23/500\n",
            "375/375 [==============================] - 6s 17ms/step - loss: 0.0121 - accuracy: 0.9968 - val_loss: 0.1605 - val_accuracy: 0.9818\n",
            "Epoch 24/500\n",
            "375/375 [==============================] - 6s 17ms/step - loss: 0.0129 - accuracy: 0.9966 - val_loss: 0.1685 - val_accuracy: 0.9815\n",
            "Epoch 25/500\n",
            "375/375 [==============================] - 6s 17ms/step - loss: 0.0145 - accuracy: 0.9965 - val_loss: 0.1883 - val_accuracy: 0.9812\n",
            "Epoch 26/500\n",
            "375/375 [==============================] - 6s 17ms/step - loss: 0.0117 - accuracy: 0.9966 - val_loss: 0.1844 - val_accuracy: 0.9819\n",
            "Epoch 27/500\n",
            "375/375 [==============================] - 6s 17ms/step - loss: 0.0124 - accuracy: 0.9966 - val_loss: 0.2136 - val_accuracy: 0.9805\n",
            "Epoch 28/500\n",
            "375/375 [==============================] - 6s 17ms/step - loss: 0.0128 - accuracy: 0.9968 - val_loss: 0.1689 - val_accuracy: 0.9819\n",
            "Epoch 29/500\n",
            "375/375 [==============================] - 6s 17ms/step - loss: 0.0109 - accuracy: 0.9968 - val_loss: 0.1838 - val_accuracy: 0.9815\n",
            "Epoch 30/500\n",
            "375/375 [==============================] - 6s 17ms/step - loss: 0.0107 - accuracy: 0.9971 - val_loss: 0.2118 - val_accuracy: 0.9806\n",
            "Epoch 31/500\n",
            "375/375 [==============================] - 6s 17ms/step - loss: 0.0127 - accuracy: 0.9973 - val_loss: 0.1989 - val_accuracy: 0.9818\n",
            "Epoch 32/500\n",
            "375/375 [==============================] - 6s 17ms/step - loss: 0.0105 - accuracy: 0.9973 - val_loss: 0.2015 - val_accuracy: 0.9816\n",
            "Epoch 33/500\n",
            "375/375 [==============================] - 6s 17ms/step - loss: 0.0120 - accuracy: 0.9971 - val_loss: 0.1817 - val_accuracy: 0.9814\n",
            "Epoch 34/500\n",
            "375/375 [==============================] - 6s 17ms/step - loss: 0.0105 - accuracy: 0.9977 - val_loss: 0.1908 - val_accuracy: 0.9812\n",
            "Epoch 35/500\n",
            "375/375 [==============================] - 6s 17ms/step - loss: 0.0093 - accuracy: 0.9980 - val_loss: 0.2145 - val_accuracy: 0.9813\n",
            "Epoch 36/500\n",
            "375/375 [==============================] - 6s 17ms/step - loss: 0.0090 - accuracy: 0.9977 - val_loss: 0.2080 - val_accuracy: 0.9806\n",
            "Epoch 37/500\n",
            "375/375 [==============================] - 6s 17ms/step - loss: 0.0101 - accuracy: 0.9977 - val_loss: 0.2073 - val_accuracy: 0.9803\n",
            "Epoch 38/500\n",
            "375/375 [==============================] - 6s 17ms/step - loss: 0.0094 - accuracy: 0.9978 - val_loss: 0.1977 - val_accuracy: 0.9820\n",
            "Epoch 39/500\n",
            "375/375 [==============================] - 6s 16ms/step - loss: 0.0099 - accuracy: 0.9979 - val_loss: 0.1961 - val_accuracy: 0.9822\n",
            "Epoch 40/500\n",
            "375/375 [==============================] - 6s 17ms/step - loss: 0.0082 - accuracy: 0.9976 - val_loss: 0.2001 - val_accuracy: 0.9827\n",
            "Epoch 41/500\n",
            "375/375 [==============================] - 6s 17ms/step - loss: 0.0139 - accuracy: 0.9971 - val_loss: 0.2083 - val_accuracy: 0.9822\n",
            "Epoch 42/500\n",
            "375/375 [==============================] - 7s 17ms/step - loss: 0.0093 - accuracy: 0.9978 - val_loss: 0.2076 - val_accuracy: 0.9810\n",
            "Epoch 43/500\n",
            "375/375 [==============================] - 6s 17ms/step - loss: 0.0074 - accuracy: 0.9980 - val_loss: 0.2378 - val_accuracy: 0.9821\n",
            "Epoch 44/500\n",
            "375/375 [==============================] - 6s 17ms/step - loss: 0.0091 - accuracy: 0.9977 - val_loss: 0.2200 - val_accuracy: 0.9824\n",
            "Epoch 45/500\n",
            "375/375 [==============================] - 6s 17ms/step - loss: 0.0089 - accuracy: 0.9979 - val_loss: 0.2312 - val_accuracy: 0.9808\n",
            "Epoch 46/500\n",
            "375/375 [==============================] - 6s 17ms/step - loss: 0.0081 - accuracy: 0.9980 - val_loss: 0.2224 - val_accuracy: 0.9818\n",
            "Epoch 47/500\n",
            "375/375 [==============================] - 6s 17ms/step - loss: 0.0099 - accuracy: 0.9980 - val_loss: 0.2642 - val_accuracy: 0.9813\n",
            "Epoch 48/500\n",
            "375/375 [==============================] - 6s 17ms/step - loss: 0.0084 - accuracy: 0.9980 - val_loss: 0.2674 - val_accuracy: 0.9822\n",
            "Epoch 49/500\n",
            "375/375 [==============================] - 7s 17ms/step - loss: 0.0073 - accuracy: 0.9984 - val_loss: 0.2387 - val_accuracy: 0.9824\n",
            "Epoch 50/500\n",
            "375/375 [==============================] - 6s 17ms/step - loss: 0.0090 - accuracy: 0.9980 - val_loss: 0.2360 - val_accuracy: 0.9821\n",
            "Epoch 51/500\n",
            "375/375 [==============================] - 7s 17ms/step - loss: 0.0093 - accuracy: 0.9980 - val_loss: 0.2434 - val_accuracy: 0.9813\n",
            "Epoch 52/500\n",
            "375/375 [==============================] - 6s 17ms/step - loss: 0.0094 - accuracy: 0.9983 - val_loss: 0.2322 - val_accuracy: 0.9835\n",
            "Epoch 53/500\n",
            "375/375 [==============================] - 6s 17ms/step - loss: 0.0100 - accuracy: 0.9979 - val_loss: 0.2490 - val_accuracy: 0.9820\n",
            "Epoch 54/500\n",
            "375/375 [==============================] - 6s 17ms/step - loss: 0.0105 - accuracy: 0.9980 - val_loss: 0.2265 - val_accuracy: 0.9823\n",
            "Epoch 55/500\n",
            "375/375 [==============================] - 6s 17ms/step - loss: 0.0064 - accuracy: 0.9983 - val_loss: 0.2755 - val_accuracy: 0.9806\n",
            "Epoch 56/500\n",
            "375/375 [==============================] - 6s 17ms/step - loss: 0.0074 - accuracy: 0.9984 - val_loss: 0.2567 - val_accuracy: 0.9814\n",
            "Epoch 57/500\n",
            "375/375 [==============================] - 6s 17ms/step - loss: 0.0071 - accuracy: 0.9985 - val_loss: 0.2741 - val_accuracy: 0.9823\n",
            "Epoch 58/500\n",
            "375/375 [==============================] - 6s 17ms/step - loss: 0.0084 - accuracy: 0.9981 - val_loss: 0.2568 - val_accuracy: 0.9836\n",
            "Epoch 59/500\n",
            "375/375 [==============================] - 6s 17ms/step - loss: 0.0068 - accuracy: 0.9985 - val_loss: 0.2729 - val_accuracy: 0.9823\n",
            "Epoch 60/500\n",
            "375/375 [==============================] - 6s 17ms/step - loss: 0.0087 - accuracy: 0.9981 - val_loss: 0.2580 - val_accuracy: 0.9818\n",
            "Epoch 61/500\n",
            "375/375 [==============================] - 7s 17ms/step - loss: 0.0114 - accuracy: 0.9980 - val_loss: 0.2534 - val_accuracy: 0.9829\n",
            "Epoch 62/500\n",
            "375/375 [==============================] - 6s 17ms/step - loss: 0.0060 - accuracy: 0.9985 - val_loss: 0.2676 - val_accuracy: 0.9825\n",
            "Epoch 63/500\n",
            "375/375 [==============================] - 6s 17ms/step - loss: 0.0075 - accuracy: 0.9982 - val_loss: 0.2686 - val_accuracy: 0.9826\n",
            "Epoch 64/500\n",
            "375/375 [==============================] - 6s 17ms/step - loss: 0.0065 - accuracy: 0.9984 - val_loss: 0.2679 - val_accuracy: 0.9823\n",
            "Epoch 65/500\n",
            "375/375 [==============================] - 6s 17ms/step - loss: 0.0075 - accuracy: 0.9986 - val_loss: 0.2773 - val_accuracy: 0.9816\n",
            "Epoch 66/500\n",
            "375/375 [==============================] - 6s 17ms/step - loss: 0.0074 - accuracy: 0.9985 - val_loss: 0.2681 - val_accuracy: 0.9833\n",
            "Epoch 67/500\n",
            "375/375 [==============================] - 6s 17ms/step - loss: 0.0076 - accuracy: 0.9983 - val_loss: 0.2785 - val_accuracy: 0.9818\n",
            "Epoch 68/500\n",
            "375/375 [==============================] - 6s 17ms/step - loss: 0.0074 - accuracy: 0.9984 - val_loss: 0.2924 - val_accuracy: 0.9827\n",
            "Epoch 69/500\n",
            "375/375 [==============================] - 6s 17ms/step - loss: 0.0080 - accuracy: 0.9984 - val_loss: 0.3010 - val_accuracy: 0.9825\n",
            "Epoch 70/500\n",
            "375/375 [==============================] - 6s 17ms/step - loss: 0.0086 - accuracy: 0.9982 - val_loss: 0.2944 - val_accuracy: 0.9830\n",
            "Epoch 71/500\n",
            "375/375 [==============================] - 6s 17ms/step - loss: 0.0075 - accuracy: 0.9987 - val_loss: 0.2859 - val_accuracy: 0.9837\n",
            "Epoch 72/500\n",
            "375/375 [==============================] - 6s 17ms/step - loss: 0.0070 - accuracy: 0.9988 - val_loss: 0.2975 - val_accuracy: 0.9831\n",
            "Epoch 73/500\n",
            "375/375 [==============================] - 6s 17ms/step - loss: 0.0069 - accuracy: 0.9986 - val_loss: 0.2802 - val_accuracy: 0.9831\n"
          ]
        }
      ]
    },
    {
      "cell_type": "code",
      "source": [
        "score = model.evaluate(x_test,y_test,verbose=0)\n",
        "print('Test loss: ',score[0])\n",
        "print('Test accuracy: ',score[1])\n",
        "plt.plot(history.history['accuracy'])\n",
        "plt.plot(history.history['val_accuracy'])\n",
        "plt.title('model accuracy')\n",
        "plt.ylabel('accuracy')\n",
        "plt.xlabel('epochs')\n",
        "plt.legend(['train','Validation'])\n",
        "plt.show()"
      ],
      "metadata": {
        "colab": {
          "base_uri": "https://localhost:8080/",
          "height": 329
        },
        "id": "PWGe52U0wrG0",
        "outputId": "02caffba-8ee0-4d69-91ee-0394105b6b66"
      },
      "execution_count": null,
      "outputs": [
        {
          "output_type": "stream",
          "name": "stdout",
          "text": [
            "Test loss:  0.24820183217525482\n",
            "Test accuracy:  0.9836000204086304\n"
          ]
        },
        {
          "output_type": "display_data",
          "data": {
            "text/plain": [
              "<Figure size 432x288 with 1 Axes>"
            ],
            "image/png": "[encoded data removed]"
          },
          "metadata": {
            "needs_background": "light"
          }
        }
      ]
    },
    {
      "cell_type": "code",
      "source": [
        "from google.colab import drive\n",
        "drive.mount('/content/drive')\n",
        "!wget -nc https://raw.githubusercontent.com/brpy/colab-pdf/master/colab_pdf.py\n",
        "from colab_pdf import colab_pdf\n",
        "colab_pdf('mnist.ipynb')\n"
      ],
      "metadata": {
        "colab": {
          "base_uri": "https://localhost:8080/",
          "height": 573
        },
        "id": "vV_cIOVl3-QR",
        "outputId": "3b7cf6af-5dc5-4941-c06c-f3aa14364e91"
      },
      "execution_count": null,
      "outputs": [
        {
          "output_type": "stream",
          "name": "stdout",
          "text": [
            "Drive already mounted at /content/drive; to attempt to forcibly remount, call drive.mount(\"/content/drive\", force_remount=True).\n",
            "--2022-04-30 17:10:41--  https://raw.githubusercontent.com/brpy/colab-pdf/master/colab_pdf.py\n",
            "Resolving raw.githubusercontent.com (raw.githubusercontent.com)... 185.199.109.133, 185.199.110.133, 185.199.111.133, ...\n",
            "Connecting to raw.githubusercontent.com (raw.githubusercontent.com)|185.199.109.133|:443... connected.\n",
            "HTTP request sent, awaiting response... 200 OK\n",
            "Length: 1864 (1.8K) [text/plain]\n",
            "Saving to: ‘colab_pdf.py’\n",
            "\n",
            "colab_pdf.py        100%[===================>]   1.82K  --.-KB/s    in 0s      \n",
            "\n",
            "2022-04-30 17:10:42 (25.6 MB/s) - ‘colab_pdf.py’ saved [1864/1864]\n",
            "\n",
            "\n",
            "WARNING: apt does not have a stable CLI interface. Use with caution in scripts.\n",
            "\n",
            "\n",
            "WARNING: apt does not have a stable CLI interface. Use with caution in scripts.\n",
            "\n",
            "Extracting templates from packages: 100%\n",
            "[NbConvertApp] Converting notebook /content/drive/MyDrive/Colab Notebooks/mnist.ipynb to pdf\n",
            "[NbConvertApp] Support files will be in mnist_files/\n",
            "[NbConvertApp] Making directory ./mnist_files\n",
            "[NbConvertApp] Making directory ./mnist_files\n",
            "[NbConvertApp] Making directory ./mnist_files\n",
            "[NbConvertApp] Writing 45055 bytes to ./notebook.tex\n",
            "[NbConvertApp] Building PDF\n",
            "[NbConvertApp] Running xelatex 3 times: ['xelatex', './notebook.tex', '-quiet']\n",
            "[NbConvertApp] Running bibtex 1 time: ['bibtex', './notebook']\n",
            "[NbConvertApp] WARNING | bibtex had problems, most likely because there were no citations\n",
            "[NbConvertApp] PDF successfully created\n",
            "[NbConvertApp] Writing 69491 bytes to /content/drive/My Drive/mnist.pdf\n"
          ]
        },
        {
          "output_type": "display_data",
          "data": {
            "text/plain": [
              "<IPython.core.display.Javascript object>"
            ],
            "application/javascript": [
              "\n",
              "    async function download(id, filename, size) {\n",
              "      if (!google.colab.kernel.accessAllowed) {\n",
              "        return;\n",
              "      }\n",
              "      const div = document.createElement('div');\n",
              "      const label = document.createElement('label');\n",
              "      label.textContent = `Downloading \"${filename}\": `;\n",
              "      div.appendChild(label);\n",
              "      const progress = document.createElement('progress');\n",
              "      progress.max = size;\n",
              "      div.appendChild(progress);\n",
              "      document.body.appendChild(div);\n",
              "\n",
              "      const buffers = [];\n",
              "      let downloaded = 0;\n",
              "\n",
              "      const channel = await google.colab.kernel.comms.open(id);\n",
              "      // Send a message to notify the kernel that we're ready.\n",
              "      channel.send({})\n",
              "\n",
              "      for await (const message of channel.messages) {\n",
              "        // Send a message to notify the kernel that we're ready.\n",
              "        channel.send({})\n",
              "        if (message.buffers) {\n",
              "          for (const buffer of message.buffers) {\n",
              "            buffers.push(buffer);\n",
              "            downloaded += buffer.byteLength;\n",
              "            progress.value = downloaded;\n",
              "          }\n",
              "        }\n",
              "      }\n",
              "      const blob = new Blob(buffers, {type: 'application/binary'});\n",
              "      const a = document.createElement('a');\n",
              "      a.href = window.URL.createObjectURL(blob);\n",
              "      a.download = filename;\n",
              "      div.appendChild(a);\n",
              "      a.click();\n",
              "      div.remove();\n",
              "    }\n",
              "  "
            ]
          },
          "metadata": {}
        },
        {
          "output_type": "display_data",
          "data": {
            "text/plain": [
              "<IPython.core.display.Javascript object>"
            ],
            "application/javascript": [
              "download(\"download_dadc8239-e72c-49a2-a892-80747787757c\", \"mnist.pdf\", 69491)"
            ]
          },
          "metadata": {}
        },
        {
          "output_type": "execute_result",
          "data": {
            "text/plain": [
              "'File ready to be Downloaded and Saved to Drive'"
            ],
            "application/vnd.google.colaboratory.intrinsic+json": {
              "type": "string"
            }
          },
          "metadata": {},
          "execution_count": 36
        }
      ]
    },
    {
      "cell_type": "code",
      "source": [
        ""
      ],
      "metadata": {
        "id": "rtJU7IUMcH8_"
      },
      "execution_count": null,
      "outputs": []
    }
  ]
}